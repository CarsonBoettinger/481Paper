{
 "cells": [
  {
   "cell_type": "code",
   "execution_count": 14,
   "metadata": {},
   "outputs": [],
   "source": [
    "import numpy as np\n",
    "import pandas as pd\n",
    "import sklearn.linear_model as lm \n",
    "import matplotlib.pyplot as plt"
   ]
  },
  {
   "cell_type": "code",
   "execution_count": 15,
   "metadata": {},
   "outputs": [],
   "source": [
    "# Intializing the variables\n",
    "np.random.seed()\n",
    "N = 1000\n",
    "T = int(0.5 * N)\n",
    "K = 100\n",
    "kk = range(1, K + 1)\n",
    "signal2noise = 0.003"
   ]
  },
  {
   "cell_type": "code",
   "execution_count": 16,
   "metadata": {},
   "outputs": [],
   "source": [
    "#Intializing the coefficents\n",
    "coefs = np.random.normal(size=K)\n",
    "coefs = coefs[(np.argsort(-np.abs(coefs)))]"
   ]
  },
  {
   "cell_type": "code",
   "execution_count": 17,
   "metadata": {},
   "outputs": [
    {
     "ename": "IndexError",
     "evalue": "invalid index to scalar variable.",
     "output_type": "error",
     "traceback": [
      "\u001b[0;31m---------------------------------------------------------------------------\u001b[0m",
      "\u001b[0;31mIndexError\u001b[0m                                Traceback (most recent call last)",
      "Cell \u001b[0;32mIn[17], line 18\u001b[0m\n\u001b[1;32m     16\u001b[0m     is_label \u001b[38;5;241m=\u001b[39m \u001b[38;5;124mf\u001b[39m\u001b[38;5;124m'\u001b[39m\u001b[38;5;124mIS xcor = \u001b[39m\u001b[38;5;132;01m{\u001b[39;00mxcor\u001b[38;5;132;01m}\u001b[39;00m\u001b[38;5;124m'\u001b[39m\n\u001b[1;32m     17\u001b[0m     os_label \u001b[38;5;241m=\u001b[39m \u001b[38;5;124mf\u001b[39m\u001b[38;5;124m'\u001b[39m\u001b[38;5;124mOS xcor =  \u001b[39m\u001b[38;5;132;01m{\u001b[39;00mxcor\u001b[38;5;132;01m}\u001b[39;00m\u001b[38;5;124m : $k^*$=\u001b[39m\u001b[38;5;132;01m{\u001b[39;00mnp\u001b[38;5;241m.\u001b[39margmax(os_r2)\u001b[38;5;132;01m}\u001b[39;00m\u001b[38;5;124m'\u001b[39m\n\u001b[0;32m---> 18\u001b[0m     plt\u001b[38;5;241m.\u001b[39mplot(kk, \u001b[43mis_r2\u001b[49m\u001b[43m[\u001b[49m\u001b[38;5;241;43m1\u001b[39;49m\u001b[43m:\u001b[49m\u001b[43mK\u001b[49m\u001b[38;5;241;43m+\u001b[39;49m\u001b[38;5;241;43m1\u001b[39;49m\u001b[43m]\u001b[49m, \u001b[38;5;124m'\u001b[39m\u001b[38;5;124m-\u001b[39m\u001b[38;5;124m'\u001b[39m, label\u001b[38;5;241m=\u001b[39mis_label)\n\u001b[1;32m     19\u001b[0m     plt\u001b[38;5;241m.\u001b[39mplot(kk, os_r2[\u001b[38;5;241m1\u001b[39m:K\u001b[38;5;241m+\u001b[39m\u001b[38;5;241m1\u001b[39m], \u001b[38;5;124m'\u001b[39m\u001b[38;5;124m-\u001b[39m\u001b[38;5;124m'\u001b[39m, label\u001b[38;5;241m=\u001b[39mos_label)\n\u001b[1;32m     20\u001b[0m plt\u001b[38;5;241m.\u001b[39mxlabel(\u001b[38;5;124m'\u001b[39m\u001b[38;5;124m$k$\u001b[39m\u001b[38;5;124m'\u001b[39m)\n",
      "\u001b[0;31mIndexError\u001b[0m: invalid index to scalar variable."
     ]
    },
    {
     "data": {
      "text/plain": [
       "<Figure size 640x480 with 0 Axes>"
      ]
     },
     "metadata": {},
     "output_type": "display_data"
    }
   ],
   "source": [
    "#Generating the plot / Using a nested loop\n",
    "fig = plt.figure()\n",
    "for xcor in [0.75, 0.85, 0.95]:\n",
    "    cov = (1 - xcor)*np.diag(np.ones([K])) + xcor*np.ones([K,K])\n",
    "    X = np.random.multivariate_normal(np.zeros(K), cov, size=(N))\n",
    "    #Noisy Response\n",
    "    y = signal2noise*np.dot(X, coefs) + np.random.normal(size=(N))\n",
    "    is_r2 = np.zeros(K+1)\n",
    "    os_r2 = np.zeros(K+1)\n",
    "    for k in kk:\n",
    "        Xtrain, Xtest = X[0:T, 0:k], X[T:N, 0:k]\n",
    "        ytrain, ytest = y[0:T], y[T:N]\n",
    "        reg = lm.LinearRegression(fit_intercept=False).fit(Xtrain, ytrain)\n",
    "        is_r2 = reg.score(Xtrain, ytrain) #Training on R**2\n",
    "        os_r2 = reg.score(Xtest, ytest) # Testing on R**2\n",
    "    is_label = f'IS xcor = {xcor}'\n",
    "    os_label = f'OS xcor =  {xcor} : $k^*$={np.argmax(os_r2)}'\n",
    "    plt.plot(kk, is_r2[1:K+1], '-', label=is_label)\n",
    "    plt.plot(kk, os_r2[1:K+1], '-', label=os_label)\n",
    "plt.xlabel('$k$')\n",
    "plt.ylabel('$R^2$')\n",
    "plt.legend()\n",
    "plt.show()\n",
    "\n"
   ]
  }
 ],
 "metadata": {
  "kernelspec": {
   "display_name": "work",
   "language": "python",
   "name": "python3"
  },
  "language_info": {
   "codemirror_mode": {
    "name": "ipython",
    "version": 3
   },
   "file_extension": ".py",
   "mimetype": "text/x-python",
   "name": "python",
   "nbconvert_exporter": "python",
   "pygments_lexer": "ipython3",
   "version": "3.9.19"
  }
 },
 "nbformat": 4,
 "nbformat_minor": 2
}
