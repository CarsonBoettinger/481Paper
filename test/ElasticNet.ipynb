{
 "cells": [
  {
   "cell_type": "code",
   "execution_count": 4,
   "metadata": {},
   "outputs": [],
   "source": [
    "# Importing the necessary libraries\n",
    "from sklearn.linear_model import ElasticNetCV\n",
    "from sklearn.linear_model import ElasticNet\n",
    "from sklearn.datasets import make_regression\n",
    "from sklearn.model_selection import train_test_split\n",
    "from sklearn.model_selection import GridSearchCV\n",
    "from sklearn.metrics import make_scorer, mean_squared_error\n",
    "from sklearn.feature_selection import RFE"
   ]
  },
  {
   "cell_type": "code",
   "execution_count": 1,
   "metadata": {},
   "outputs": [
    {
     "name": "stdout",
     "output_type": "stream",
     "text": [
      "Best Alpha (L1 ratio): 1.0\n",
      "Best Lambda (Regularization Strength): 0.1\n"
     ]
    }
   ],
   "source": [
    "#This is using a optimization for alpha and l1_ratio in an ElasticNet model (LASSO and Ridge regression)\n",
    "\n",
    "# Example data\n",
    "X, y = make_regression(n_samples=1000, n_features=20, noise=0.1, random_state=42)\n",
    "X_train, X_test, y_train, y_test = train_test_split(X, y, test_size=0.2, random_state=42)\n",
    "\n",
    "# Elastic Net with cross-validation\n",
    "elastic_net_cv = ElasticNetCV(\n",
    "    l1_ratio=[0.1, 0.5, 0.7, 1.0],  # Range of alpha values to explore\n",
    "    alphas=[0.1, 1.0, 10.0],  # Range of lambda values to explore\n",
    "    cv=5,  # 5-fold cross-validation\n",
    "    random_state=42\n",
    ")\n",
    "\n",
    "# Fit model\n",
    "elastic_net_cv.fit(X_train, y_train)\n",
    "\n",
    "# Optimal parameters\n",
    "best_l1_ratio = elastic_net_cv.l1_ratio_  # Optimal alpha\n",
    "best_alpha = elastic_net_cv.alpha_  # Optimal lambda\n",
    "print(f\"Best Alpha (L1 ratio): {best_l1_ratio}\")\n",
    "print(f\"Best Lambda (Regularization Strength): {best_alpha}\")\n",
    "\n",
    "# Predict\n",
    "y_pred = elastic_net_cv.predict(X_test)\n"
   ]
  },
  {
   "cell_type": "code",
   "execution_count": 2,
   "metadata": {},
   "outputs": [
    {
     "name": "stdout",
     "output_type": "stream",
     "text": [
      "Fitting 5 folds for each of 12 candidates, totalling 60 fits\n",
      "Optimal Parameters: {'alpha': 0.1, 'l1_ratio': 1.0}\n"
     ]
    }
   ],
   "source": [
    "# Using a grid search for finer control ovee the parameters\n",
    "\n",
    "# Define the model\n",
    "elastic_net = ElasticNet(random_state=42)\n",
    "\n",
    "# Define parameter grid\n",
    "param_grid = {\n",
    "    \"alpha\": [0.1, 1, 10],  # Regularization strength\n",
    "    \"l1_ratio\": [0.1, 0.5, 0.7, 1.0],  # Mixing parameter\n",
    "}\n",
    "\n",
    "# Define scoring\n",
    "scorer = make_scorer(mean_squared_error, greater_is_better=False)\n",
    "\n",
    "# Perform Grid Search\n",
    "grid_search = GridSearchCV(estimator=elastic_net, param_grid=param_grid, cv=5, scoring=scorer, verbose=1)\n",
    "grid_search.fit(X_train, y_train)\n",
    "\n",
    "# Best parameters\n",
    "best_params = grid_search.best_params_\n",
    "print(f\"Optimal Parameters: {best_params}\")\n",
    "\n",
    "# Predict\n",
    "y_pred = grid_search.best_estimator_.predict(X_test)\n"
   ]
  },
  {
   "cell_type": "code",
   "execution_count": 3,
   "metadata": {},
   "outputs": [
    {
     "name": "stdout",
     "output_type": "stream",
     "text": [
      "Selected Features: [ True  True  True False  True False  True False False False  True  True\n",
      " False False False  True  True  True False False]\n"
     ]
    }
   ],
   "source": [
    "# Recursive Feature Elimination (RFE) with ElasticNet \n",
    "\n",
    "# Use ElasticNet as the base estimator\n",
    "elastic_net = ElasticNet(alpha=1.0, l1_ratio=0.5, random_state=42)\n",
    "\n",
    "# Recursive Feature Elimination\n",
    "rfe = RFE(estimator=elastic_net, n_features_to_select=10)\n",
    "rfe.fit(X_train, y_train)\n",
    "\n",
    "# Selected features\n",
    "selected_features = rfe.support_\n",
    "print(f\"Selected Features: {selected_features}\")\n"
   ]
  }
 ],
 "metadata": {
  "kernelspec": {
   "display_name": "work",
   "language": "python",
   "name": "python3"
  },
  "language_info": {
   "codemirror_mode": {
    "name": "ipython",
    "version": 3
   },
   "file_extension": ".py",
   "mimetype": "text/x-python",
   "name": "python",
   "nbconvert_exporter": "python",
   "pygments_lexer": "ipython3",
   "version": "3.9.19"
  }
 },
 "nbformat": 4,
 "nbformat_minor": 2
}
